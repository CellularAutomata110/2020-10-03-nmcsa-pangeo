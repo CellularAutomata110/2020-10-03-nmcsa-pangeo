{
 "cells": [
  {
   "cell_type": "markdown",
   "metadata": {},
   "source": [
    "# NM Supercomputing Challenge 2020"
   ]
  },
  {
   "cell_type": "markdown",
   "metadata": {},
   "source": [
    "## Session #3 (Jon Wheeler): Data workflows, automation, and visualization with Pandas and Matplotlib\n",
    "\n",
    "This notebook is modified from the \"Data Workflows and Automation\" and \"Data Ingest and Visualization - Matplotlib and Pandas\" lessons in the Data Carpentry module, _Data Analysis and Visualization in Python for Ecologists_. The lessons are available at <http://www.datacarpentry.org/python-ecology-lesson/>, and are licensed with a Creative Commons Attribution (CC-BY-4.0) license: <https://creativecommons.org/licenses/by/4.0/>. The recommended citation is given here, though may be out of date:\n",
    "\n",
    "> John Gosset, April Wright (eds): \"Data Carpentry Python Ecology lesson.\"\n",
    "> Version 2017.04.0, April 2017,\n",
    "> <http://www.datacarpentry.org/python-ecology-lesson/>\n",
    "\n",
    "Before we begin, let's go ahead and re-import the libraries we're using for this workshop:"
   ]
  },
  {
   "cell_type": "code",
   "execution_count": 5,
   "metadata": {},
   "outputs": [],
   "source": [
    "# We will keep this commented out for now, but if needed it is possible to install packages from within a Jupyter notebook.\n",
    "# The syntax is:\n",
    "#     pip install <package>\n",
    "\n",
    "#!pip install pandas"
   ]
  },
  {
   "cell_type": "code",
   "execution_count": 7,
   "metadata": {},
   "outputs": [],
   "source": [
    "import pandas as pd     # 'pd' is an alias that lets us reference pandas functions and methods without having to type out 'pandas' every time"
   ]
  },
  {
   "cell_type": "code",
   "execution_count": null,
   "metadata": {},
   "outputs": [],
   "source": []
  }
 ],
 "metadata": {
  "kernelspec": {
   "display_name": "Python 3",
   "language": "python",
   "name": "python3"
  },
  "language_info": {
   "codemirror_mode": {
    "name": "ipython",
    "version": 3
   },
   "file_extension": ".py",
   "mimetype": "text/x-python",
   "name": "python",
   "nbconvert_exporter": "python",
   "pygments_lexer": "ipython3",
   "version": "3.7.6"
  }
 },
 "nbformat": 4,
 "nbformat_minor": 4
}
