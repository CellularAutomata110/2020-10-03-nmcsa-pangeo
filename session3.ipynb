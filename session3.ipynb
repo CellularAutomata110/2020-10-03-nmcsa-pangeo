{
 "cells": [
  {
   "cell_type": "markdown",
   "metadata": {},
   "source": [
    "# NM Supercomputing Challenge 2020"
   ]
  },
  {
   "cell_type": "markdown",
   "metadata": {},
   "source": [
    "## Session #3 (Jon Wheeler): Data workflows, automation, and visualization with Pandas and Matplotlib\n",
    "\n",
    "This notebook is modified from the \"Data Workflows and Automation\" and \"Data Ingest and Visualization - Matplotlib and Pandas\" lessons in the Data Carpentry module, _Data Analysis and Visualization in Python for Ecologists_. The lessons are available at <http://www.datacarpentry.org/python-ecology-lesson/>, and are licensed with a Creative Commons Attribution (CC-BY-4.0) license: <https://creativecommons.org/licenses/by/4.0/>. The recommended citation is given here, though may be out of date:\n",
    "\n",
    "> John Gosset, April Wright (eds): \"Data Carpentry Python Ecology lesson.\"\n",
    "> Version 2017.04.0, April 2017,\n",
    "> <http://www.datacarpentry.org/python-ecology-lesson/>\n",
    "\n",
    "Before we begin, let's go ahead and re-import the libraries we're using for this workshop:"
   ]
  },
  {
   "cell_type": "code",
   "execution_count": 5,
   "metadata": {},
   "outputs": [],
   "source": [
    "# We will keep this commented out for now, but if needed it is possible to install packages from within a Jupyter notebook.\n",
    "# The syntax is:\n",
    "#     pip install <package>\n",
    "\n",
    "#!pip install pandas"
   ]
  },
  {
   "cell_type": "code",
   "execution_count": 17,
   "metadata": {},
   "outputs": [],
   "source": [
    "import pandas as pd     # 'pd' is an alias that lets us reference pandas functions and methods without having to type out 'pandas' every time\n",
    "import os"
   ]
  },
  {
   "cell_type": "markdown",
   "metadata": {},
   "source": [
    "## Workflows & automation\n",
    "\n",
    "Recap: What are some of the benefits of using Python? Everyone is encouraged to jot down some reflections or thoughts in this space. (Double click this code block to edit and add text.)\n",
    "\n",
    "> .\n",
    "> .\n",
    "> .\n",
    "\n",
    "Loops and functions allows us to build efficiencies into our analyses by repeating actions and re-using bits of code. This also helps to reduce the likelihood of mistakes and errors we might make when we perform repetitive tasks manually.\n",
    "\n",
    "## Loops"
   ]
  },
  {
   "cell_type": "code",
   "execution_count": 8,
   "metadata": {},
   "outputs": [
    {
     "name": "stdout",
     "output_type": "stream",
     "text": [
      "['lion', 'tiger', 'crocodile', 'vulture', 'hippo']\n"
     ]
    }
   ],
   "source": [
    "# For loops\n",
    "\n",
    "# Syntax\n",
    "# for item in collection:\n",
    "#    do something\n",
    "\n",
    "# The \"collection\" we iterate through can be any one of a number of data structures or object, but we often use for loops to iterate\n",
    "# over lists. Let's start with that:\n",
    "\n",
    "animals = ['lion', 'tiger', 'crocodile', 'vulture', 'hippo']\n",
    "\n",
    "# Print the list to screen:\n",
    "print(animals)"
   ]
  },
  {
   "cell_type": "code",
   "execution_count": 10,
   "metadata": {},
   "outputs": [
    {
     "name": "stdout",
     "output_type": "stream",
     "text": [
      "lion\n",
      "tiger\n",
      "crocodile\n",
      "vulture\n",
      "hippo\n"
     ]
    }
   ],
   "source": [
    "# Referring to the syntax above, \"the collection\" is the list we have assigned to the variable \"animals.\"\n",
    "# The items in the list are the individual animals we have named - lion, tiger, etc.\n",
    "\n",
    "# The following loop will print out the name of each animal. How does the output differ from the 'print(animals)' command above'?\n",
    "# The loop variable is \"animal\" - we can call the loop variable almost anything, but we recommend using a term consistent with the collection.\n",
    "for animal in animals:\n",
    "    print(animal)"
   ]
  },
  {
   "cell_type": "code",
   "execution_count": 12,
   "metadata": {},
   "outputs": [
    {
     "name": "stdout",
     "output_type": "stream",
     "text": [
      "hippo\n"
     ]
    }
   ],
   "source": [
    "# Note that the loop variable still exists after the for loop has completed, and has the value of the last item in the collection:\n",
    "\n",
    "print(animal)"
   ]
  },
  {
   "cell_type": "markdown",
   "metadata": {},
   "source": [
    "# Exercise:\n",
    "\n",
    "Run the next two code blocks, then answer the questions below:\n",
    "\n",
    "1. What happens if we don’t include the `pass` statement?\n",
    "2. Rewrite the loop so that the animals are separated by commas, not new lines (Hint: You can concatenate strings using a plus sign. For example, print(string1 + string2) outputs ‘string1string2’).\n"
   ]
  },
  {
   "cell_type": "code",
   "execution_count": 15,
   "metadata": {},
   "outputs": [],
   "source": [
    "for creature in animals:\n",
    "    pass"
   ]
  },
  {
   "cell_type": "code",
   "execution_count": 19,
   "metadata": {},
   "outputs": [
    {
     "name": "stdout",
     "output_type": "stream",
     "text": [
      "The loop variable is now: hippo\n"
     ]
    }
   ],
   "source": [
    "print('The loop variable is now: ' + creature)"
   ]
  },
  {
   "cell_type": "markdown",
   "metadata": {},
   "source": [
    "## Functions\n",
    "\n",
    "Loops are handy, but they will only be executed from wherever they are in the code. Using the example above, if we are developing a script in which the list of animals is continually being modified, we might find ourselves adding a new for loop every time we want to print the animal names or do something else. Imagine for example a process like this:\n",
    "\n",
    "```\n",
    "# A list of family pets:\n",
    "pets = ['dog', 'cat', 'lizard']\n",
    "\n",
    "# Let's print the list for reference:\n",
    "for pet in pets:\n",
    "    print(pet)\n",
    "\n",
    "# Hooray, we got a parakeet!\n",
    "pets.append('parakeet')\n",
    "\n",
    "# Oh no, the cat ran away!\n",
    "pets.remove('cat')\n",
    "\n",
    "# Now we need to re-print the updated list...\n",
    "for pet in pets:\n",
    "    print(pet)\n",
    "```\n",
    "\n",
    "This is an artificial example, but demonstrates that we often need to update lists or other objects and repeat certain actions on one or several objects. Functions allow us to create re-usable bits of code that can be called as needed from any point in a script. "
   ]
  },
  {
   "cell_type": "markdown",
   "metadata": {},
   "source": []
  }
 ],
 "metadata": {
  "kernelspec": {
   "display_name": "Python 3",
   "language": "python",
   "name": "python3"
  },
  "language_info": {
   "codemirror_mode": {
    "name": "ipython",
    "version": 3
   },
   "file_extension": ".py",
   "mimetype": "text/x-python",
   "name": "python",
   "nbconvert_exporter": "python",
   "pygments_lexer": "ipython3",
   "version": "3.7.6"
  }
 },
 "nbformat": 4,
 "nbformat_minor": 4
}
